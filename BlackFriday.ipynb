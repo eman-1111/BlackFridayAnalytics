{
 "cells": [
  {
   "cell_type": "code",
   "execution_count": 1,
   "metadata": {
    "scrolled": true
   },
   "outputs": [
    {
     "data": {
      "text/html": [
       "<div>\n",
       "<style scoped>\n",
       "    .dataframe tbody tr th:only-of-type {\n",
       "        vertical-align: middle;\n",
       "    }\n",
       "\n",
       "    .dataframe tbody tr th {\n",
       "        vertical-align: top;\n",
       "    }\n",
       "\n",
       "    .dataframe thead th {\n",
       "        text-align: right;\n",
       "    }\n",
       "</style>\n",
       "<table border=\"1\" class=\"dataframe\">\n",
       "  <thead>\n",
       "    <tr style=\"text-align: right;\">\n",
       "      <th></th>\n",
       "      <th>User_ID</th>\n",
       "      <th>Product_ID</th>\n",
       "      <th>Gender</th>\n",
       "      <th>Age</th>\n",
       "      <th>Occupation</th>\n",
       "      <th>City_Category</th>\n",
       "      <th>Stay_In_Current_City_Years</th>\n",
       "      <th>Marital_Status</th>\n",
       "      <th>Product_Category_1</th>\n",
       "      <th>Product_Category_2</th>\n",
       "      <th>Product_Category_3</th>\n",
       "      <th>Purchase</th>\n",
       "    </tr>\n",
       "  </thead>\n",
       "  <tbody>\n",
       "    <tr>\n",
       "      <th>0</th>\n",
       "      <td>1000001</td>\n",
       "      <td>P00069042</td>\n",
       "      <td>F</td>\n",
       "      <td>0-17</td>\n",
       "      <td>10</td>\n",
       "      <td>A</td>\n",
       "      <td>2</td>\n",
       "      <td>0</td>\n",
       "      <td>3</td>\n",
       "      <td>NaN</td>\n",
       "      <td>NaN</td>\n",
       "      <td>8370</td>\n",
       "    </tr>\n",
       "    <tr>\n",
       "      <th>1</th>\n",
       "      <td>1000001</td>\n",
       "      <td>P00248942</td>\n",
       "      <td>F</td>\n",
       "      <td>0-17</td>\n",
       "      <td>10</td>\n",
       "      <td>A</td>\n",
       "      <td>2</td>\n",
       "      <td>0</td>\n",
       "      <td>1</td>\n",
       "      <td>6.0</td>\n",
       "      <td>14.0</td>\n",
       "      <td>15200</td>\n",
       "    </tr>\n",
       "    <tr>\n",
       "      <th>2</th>\n",
       "      <td>1000001</td>\n",
       "      <td>P00087842</td>\n",
       "      <td>F</td>\n",
       "      <td>0-17</td>\n",
       "      <td>10</td>\n",
       "      <td>A</td>\n",
       "      <td>2</td>\n",
       "      <td>0</td>\n",
       "      <td>12</td>\n",
       "      <td>NaN</td>\n",
       "      <td>NaN</td>\n",
       "      <td>1422</td>\n",
       "    </tr>\n",
       "    <tr>\n",
       "      <th>3</th>\n",
       "      <td>1000001</td>\n",
       "      <td>P00085442</td>\n",
       "      <td>F</td>\n",
       "      <td>0-17</td>\n",
       "      <td>10</td>\n",
       "      <td>A</td>\n",
       "      <td>2</td>\n",
       "      <td>0</td>\n",
       "      <td>12</td>\n",
       "      <td>14.0</td>\n",
       "      <td>NaN</td>\n",
       "      <td>1057</td>\n",
       "    </tr>\n",
       "    <tr>\n",
       "      <th>4</th>\n",
       "      <td>1000002</td>\n",
       "      <td>P00285442</td>\n",
       "      <td>M</td>\n",
       "      <td>55+</td>\n",
       "      <td>16</td>\n",
       "      <td>C</td>\n",
       "      <td>4+</td>\n",
       "      <td>0</td>\n",
       "      <td>8</td>\n",
       "      <td>NaN</td>\n",
       "      <td>NaN</td>\n",
       "      <td>7969</td>\n",
       "    </tr>\n",
       "  </tbody>\n",
       "</table>\n",
       "</div>"
      ],
      "text/plain": [
       "   User_ID Product_ID Gender   Age  Occupation City_Category  \\\n",
       "0  1000001  P00069042      F  0-17          10             A   \n",
       "1  1000001  P00248942      F  0-17          10             A   \n",
       "2  1000001  P00087842      F  0-17          10             A   \n",
       "3  1000001  P00085442      F  0-17          10             A   \n",
       "4  1000002  P00285442      M   55+          16             C   \n",
       "\n",
       "  Stay_In_Current_City_Years  Marital_Status  Product_Category_1  \\\n",
       "0                          2               0                   3   \n",
       "1                          2               0                   1   \n",
       "2                          2               0                  12   \n",
       "3                          2               0                  12   \n",
       "4                         4+               0                   8   \n",
       "\n",
       "   Product_Category_2  Product_Category_3  Purchase  \n",
       "0                 NaN                 NaN      8370  \n",
       "1                 6.0                14.0     15200  \n",
       "2                 NaN                 NaN      1422  \n",
       "3                14.0                 NaN      1057  \n",
       "4                 NaN                 NaN      7969  "
      ]
     },
     "execution_count": 1,
     "metadata": {},
     "output_type": "execute_result"
    }
   ],
   "source": [
    "import pandas as pd\n",
    "import numpy as np\n",
    "black_friday_data = pd.read_csv(\"BlackFriday.csv\")\n",
    "black_friday_data.head()"
   ]
  },
  {
   "cell_type": "code",
   "execution_count": 2,
   "metadata": {},
   "outputs": [
    {
     "data": {
      "text/plain": [
       "User_ID                         int64\n",
       "Product_ID                     object\n",
       "Gender                         object\n",
       "Age                            object\n",
       "Occupation                      int64\n",
       "City_Category                  object\n",
       "Stay_In_Current_City_Years     object\n",
       "Marital_Status                  int64\n",
       "Product_Category_1              int64\n",
       "Product_Category_2            float64\n",
       "Product_Category_3            float64\n",
       "Purchase                        int64\n",
       "dtype: object"
      ]
     },
     "execution_count": 2,
     "metadata": {},
     "output_type": "execute_result"
    }
   ],
   "source": [
    "black_friday_data.dtypes"
   ]
  },
  {
   "cell_type": "code",
   "execution_count": 3,
   "metadata": {},
   "outputs": [
    {
     "name": "stdout",
     "output_type": "stream",
     "text": [
      "[132659006, 197614842, 1999749106, 413418223, 361908356, 1010649565, 901669280]\n"
     ]
    },
    {
     "data": {
      "text/plain": [
       "<Figure size 700x700 with 1 Axes>"
      ]
     },
     "metadata": {},
     "output_type": "display_data"
    }
   ],
   "source": [
    "import matplotlib.pyplot as plt\n",
    "\n",
    "age_range = pd.unique(black_friday_data[\"Age\"])\n",
    "plt.figure(figsize=(7, 7))\n",
    "\n",
    "prices = []\n",
    "for age in age_range:\n",
    "    index_of_age = black_friday_data.Age == age\n",
    "    prices.append(black_friday_data.Purchase[index_of_age].sum())\n",
    "print(prices)\n",
    "plt.bar(age_range, prices )\n",
    "plt.xlabel(\"age\")\n",
    "plt.ylabel(\"Purchase\")\n",
    "plt.show()"
   ]
  },
  {
   "cell_type": "code",
   "execution_count": 4,
   "metadata": {},
   "outputs": [
    {
     "name": "stdout",
     "output_type": "stream",
     "text": [
      "['2' '4+' '3' '1' '0']\n"
     ]
    },
    {
     "data": {
      "image/png": "[encoded data removed]",
      "text/plain": [
       "<Figure size 504x504 with 1 Axes>"
      ]
     },
     "metadata": {
      "needs_background": "light"
     },
     "output_type": "display_data"
    }
   ],
   "source": [
    "plt.figure(figsize=(7, 7))\n",
    "city_stay = pd.unique(black_friday_data.Stay_In_Current_City_Years)\n",
    "prices = []\n",
    "for year in city_stay:\n",
    "    stay_index = black_friday_data.Stay_In_Current_City_Years == year\n",
    "    prices.append(black_friday_data.Purchase[stay_index].sum())\n",
    "print(city_stay)\n",
    "plt.bar(city_stay, prices)\n",
    "plt.show()\n"
   ]
  },
  {
   "cell_type": "code",
   "execution_count": 5,
   "metadata": {},
   "outputs": [
    {
     "name": "stdout",
     "output_type": "stream",
     "text": [
      "[2966289500, 2051378878]\n"
     ]
    },
    {
     "data": {
      "image/png": "[encoded data removed]",
      "text/plain": [
       "<Figure size 504x504 with 1 Axes>"
      ]
     },
     "metadata": {
      "needs_background": "light"
     },
     "output_type": "display_data"
    }
   ],
   "source": [
    "Marital_Status_range = pd.unique(black_friday_data[\"Marital_Status\"])\n",
    "plt.figure(figsize=(7, 7))\n",
    "\n",
    "counts = []\n",
    "for marital_Status in Marital_Status_range:\n",
    "    index_of_marital_Status = black_friday_data.Marital_Status == marital_Status\n",
    "    counts.append(black_friday_data.Purchase[index_of_marital_Status].sum())\n",
    "print(counts)\n",
    "plt.bar(Marital_Status_range, counts )\n",
    "plt.xlabel(\"Marital_Status\")\n",
    "plt.ylabel(\"Purchase\")\n",
    "plt.show()"
   ]
  },
  {
   "cell_type": "code",
   "execution_count": 6,
   "metadata": {},
   "outputs": [
    {
     "data": {
      "text/plain": [
       "<matplotlib.axes._subplots.AxesSubplot at 0x11ac31208>"
      ]
     },
     "execution_count": 6,
     "metadata": {},
     "output_type": "execute_result"
    },
    {
     "data": {
      "image/png": "[encoded data removed]",
      "text/plain": [
       "<Figure size 1080x1080 with 6 Axes>"
      ]
     },
     "metadata": {
      "needs_background": "light"
     },
     "output_type": "display_data"
    }
   ],
   "source": [
    "\n",
    "\n",
    "fig, axes = plt.subplots(nrows=3, ncols=2, figsize=[15, 15])\n",
    "\n",
    "black_friday_data['Gender'].value_counts().plot(kind='barh', ax=axes[0,0], title='Gender')\n",
    "black_friday_data['Age'].value_counts().plot(kind='barh', ax=axes[0,1], title='Age')\n",
    "black_friday_data['City_Category'].value_counts().plot(kind='barh', ax=axes[1,0], title='City_Category')\n",
    "black_friday_data['Marital_Status'].value_counts().plot(kind='barh', ax=axes[1,1], title='Marital_Status')\n",
    "black_friday_data['Occupation'].value_counts().plot(kind='barh', ax=axes[2,0], title='Occupation')\n",
    "black_friday_data['Stay_In_Current_City_Years'].value_counts().plot(kind='barh', ax=axes[2,1], title='Stay_In_Current_City_Years')\n",
    "\n"
   ]
  },
  {
   "cell_type": "code",
   "execution_count": 7,
   "metadata": {},
   "outputs": [
    {
     "name": "stdout",
     "output_type": "stream",
     "text": [
      "User_ID 0\n",
      "Product_ID 0\n",
      "Gender 0\n",
      "Age 0\n",
      "Occupation 0\n",
      "City_Category 0\n",
      "Stay_In_Current_City_Years 0\n",
      "Marital_Status 0\n",
      "Product_Category_1 0\n",
      "Product_Category_2 166986\n",
      "Product_Category_3 373299\n",
      "Purchase 0\n"
     ]
    }
   ],
   "source": [
    "for  column in black_friday_data.columns:\n",
    "    null_count = black_friday_data[column].isnull().sum()\n",
    "    print (column, null_count)"
   ]
  },
  {
   "cell_type": "markdown",
   "metadata": {},
   "source": [
    "Fill missing values with zeros "
   ]
  },
  {
   "cell_type": "code",
   "execution_count": 8,
   "metadata": {},
   "outputs": [
    {
     "data": {
      "text/html": [
       "<div>\n",
       "<style scoped>\n",
       "    .dataframe tbody tr th:only-of-type {\n",
       "        vertical-align: middle;\n",
       "    }\n",
       "\n",
       "    .dataframe tbody tr th {\n",
       "        vertical-align: top;\n",
       "    }\n",
       "\n",
       "    .dataframe thead th {\n",
       "        text-align: right;\n",
       "    }\n",
       "</style>\n",
       "<table border=\"1\" class=\"dataframe\">\n",
       "  <thead>\n",
       "    <tr style=\"text-align: right;\">\n",
       "      <th></th>\n",
       "      <th>User_ID</th>\n",
       "      <th>Product_ID</th>\n",
       "      <th>Gender</th>\n",
       "      <th>Age</th>\n",
       "      <th>Occupation</th>\n",
       "      <th>City_Category</th>\n",
       "      <th>Stay_In_Current_City_Years</th>\n",
       "      <th>Marital_Status</th>\n",
       "      <th>Product_Category_1</th>\n",
       "      <th>Product_Category_2</th>\n",
       "      <th>Product_Category_3</th>\n",
       "      <th>Purchase</th>\n",
       "    </tr>\n",
       "  </thead>\n",
       "  <tbody>\n",
       "    <tr>\n",
       "      <th>0</th>\n",
       "      <td>1000001</td>\n",
       "      <td>P00069042</td>\n",
       "      <td>F</td>\n",
       "      <td>0-17</td>\n",
       "      <td>10</td>\n",
       "      <td>A</td>\n",
       "      <td>2</td>\n",
       "      <td>0</td>\n",
       "      <td>3</td>\n",
       "      <td>0.0</td>\n",
       "      <td>0.0</td>\n",
       "      <td>8370</td>\n",
       "    </tr>\n",
       "    <tr>\n",
       "      <th>1</th>\n",
       "      <td>1000001</td>\n",
       "      <td>P00248942</td>\n",
       "      <td>F</td>\n",
       "      <td>0-17</td>\n",
       "      <td>10</td>\n",
       "      <td>A</td>\n",
       "      <td>2</td>\n",
       "      <td>0</td>\n",
       "      <td>1</td>\n",
       "      <td>6.0</td>\n",
       "      <td>14.0</td>\n",
       "      <td>15200</td>\n",
       "    </tr>\n",
       "    <tr>\n",
       "      <th>2</th>\n",
       "      <td>1000001</td>\n",
       "      <td>P00087842</td>\n",
       "      <td>F</td>\n",
       "      <td>0-17</td>\n",
       "      <td>10</td>\n",
       "      <td>A</td>\n",
       "      <td>2</td>\n",
       "      <td>0</td>\n",
       "      <td>12</td>\n",
       "      <td>0.0</td>\n",
       "      <td>0.0</td>\n",
       "      <td>1422</td>\n",
       "    </tr>\n",
       "    <tr>\n",
       "      <th>3</th>\n",
       "      <td>1000001</td>\n",
       "      <td>P00085442</td>\n",
       "      <td>F</td>\n",
       "      <td>0-17</td>\n",
       "      <td>10</td>\n",
       "      <td>A</td>\n",
       "      <td>2</td>\n",
       "      <td>0</td>\n",
       "      <td>12</td>\n",
       "      <td>14.0</td>\n",
       "      <td>0.0</td>\n",
       "      <td>1057</td>\n",
       "    </tr>\n",
       "    <tr>\n",
       "      <th>4</th>\n",
       "      <td>1000002</td>\n",
       "      <td>P00285442</td>\n",
       "      <td>M</td>\n",
       "      <td>55+</td>\n",
       "      <td>16</td>\n",
       "      <td>C</td>\n",
       "      <td>4+</td>\n",
       "      <td>0</td>\n",
       "      <td>8</td>\n",
       "      <td>0.0</td>\n",
       "      <td>0.0</td>\n",
       "      <td>7969</td>\n",
       "    </tr>\n",
       "  </tbody>\n",
       "</table>\n",
       "</div>"
      ],
      "text/plain": [
       "   User_ID Product_ID Gender   Age  Occupation City_Category  \\\n",
       "0  1000001  P00069042      F  0-17          10             A   \n",
       "1  1000001  P00248942      F  0-17          10             A   \n",
       "2  1000001  P00087842      F  0-17          10             A   \n",
       "3  1000001  P00085442      F  0-17          10             A   \n",
       "4  1000002  P00285442      M   55+          16             C   \n",
       "\n",
       "  Stay_In_Current_City_Years  Marital_Status  Product_Category_1  \\\n",
       "0                          2               0                   3   \n",
       "1                          2               0                   1   \n",
       "2                          2               0                  12   \n",
       "3                          2               0                  12   \n",
       "4                         4+               0                   8   \n",
       "\n",
       "   Product_Category_2  Product_Category_3  Purchase  \n",
       "0                 0.0                 0.0      8370  \n",
       "1                 6.0                14.0     15200  \n",
       "2                 0.0                 0.0      1422  \n",
       "3                14.0                 0.0      1057  \n",
       "4                 0.0                 0.0      7969  "
      ]
     },
     "execution_count": 8,
     "metadata": {},
     "output_type": "execute_result"
    }
   ],
   "source": [
    "black_friday_data['Product_Category_2'].fillna(0, inplace=True)\n",
    "black_friday_data['Product_Category_3'].fillna(0, inplace=True)\n",
    "black_friday_data.head()"
   ]
  },
  {
   "cell_type": "code",
   "execution_count": 9,
   "metadata": {},
   "outputs": [
    {
     "data": {
      "text/html": [
       "<div>\n",
       "<style scoped>\n",
       "    .dataframe tbody tr th:only-of-type {\n",
       "        vertical-align: middle;\n",
       "    }\n",
       "\n",
       "    .dataframe tbody tr th {\n",
       "        vertical-align: top;\n",
       "    }\n",
       "\n",
       "    .dataframe thead th {\n",
       "        text-align: right;\n",
       "    }\n",
       "</style>\n",
       "<table border=\"1\" class=\"dataframe\">\n",
       "  <thead>\n",
       "    <tr style=\"text-align: right;\">\n",
       "      <th></th>\n",
       "      <th>Gender</th>\n",
       "      <th>Marital_Status</th>\n",
       "      <th>Purchase</th>\n",
       "      <th>Age_0-17</th>\n",
       "      <th>Age_18-25</th>\n",
       "      <th>Age_26-35</th>\n",
       "      <th>Age_36-45</th>\n",
       "      <th>Age_46-50</th>\n",
       "      <th>Age_51-55</th>\n",
       "      <th>Age_55+</th>\n",
       "      <th>...</th>\n",
       "      <th>Product_Category_2_9.0</th>\n",
       "      <th>Product_Category_2_10.0</th>\n",
       "      <th>Product_Category_2_11.0</th>\n",
       "      <th>Product_Category_2_12.0</th>\n",
       "      <th>Product_Category_2_13.0</th>\n",
       "      <th>Product_Category_2_14.0</th>\n",
       "      <th>Product_Category_2_15.0</th>\n",
       "      <th>Product_Category_2_16.0</th>\n",
       "      <th>Product_Category_2_17.0</th>\n",
       "      <th>Product_Category_2_18.0</th>\n",
       "    </tr>\n",
       "  </thead>\n",
       "  <tbody>\n",
       "    <tr>\n",
       "      <th>0</th>\n",
       "      <td>0</td>\n",
       "      <td>0</td>\n",
       "      <td>8370</td>\n",
       "      <td>1</td>\n",
       "      <td>0</td>\n",
       "      <td>0</td>\n",
       "      <td>0</td>\n",
       "      <td>0</td>\n",
       "      <td>0</td>\n",
       "      <td>0</td>\n",
       "      <td>...</td>\n",
       "      <td>0</td>\n",
       "      <td>0</td>\n",
       "      <td>0</td>\n",
       "      <td>0</td>\n",
       "      <td>0</td>\n",
       "      <td>0</td>\n",
       "      <td>0</td>\n",
       "      <td>0</td>\n",
       "      <td>0</td>\n",
       "      <td>0</td>\n",
       "    </tr>\n",
       "    <tr>\n",
       "      <th>1</th>\n",
       "      <td>0</td>\n",
       "      <td>0</td>\n",
       "      <td>15200</td>\n",
       "      <td>1</td>\n",
       "      <td>0</td>\n",
       "      <td>0</td>\n",
       "      <td>0</td>\n",
       "      <td>0</td>\n",
       "      <td>0</td>\n",
       "      <td>0</td>\n",
       "      <td>...</td>\n",
       "      <td>0</td>\n",
       "      <td>0</td>\n",
       "      <td>0</td>\n",
       "      <td>0</td>\n",
       "      <td>0</td>\n",
       "      <td>0</td>\n",
       "      <td>0</td>\n",
       "      <td>0</td>\n",
       "      <td>0</td>\n",
       "      <td>0</td>\n",
       "    </tr>\n",
       "    <tr>\n",
       "      <th>2</th>\n",
       "      <td>0</td>\n",
       "      <td>0</td>\n",
       "      <td>1422</td>\n",
       "      <td>1</td>\n",
       "      <td>0</td>\n",
       "      <td>0</td>\n",
       "      <td>0</td>\n",
       "      <td>0</td>\n",
       "      <td>0</td>\n",
       "      <td>0</td>\n",
       "      <td>...</td>\n",
       "      <td>0</td>\n",
       "      <td>0</td>\n",
       "      <td>0</td>\n",
       "      <td>0</td>\n",
       "      <td>0</td>\n",
       "      <td>0</td>\n",
       "      <td>0</td>\n",
       "      <td>0</td>\n",
       "      <td>0</td>\n",
       "      <td>0</td>\n",
       "    </tr>\n",
       "    <tr>\n",
       "      <th>3</th>\n",
       "      <td>0</td>\n",
       "      <td>0</td>\n",
       "      <td>1057</td>\n",
       "      <td>1</td>\n",
       "      <td>0</td>\n",
       "      <td>0</td>\n",
       "      <td>0</td>\n",
       "      <td>0</td>\n",
       "      <td>0</td>\n",
       "      <td>0</td>\n",
       "      <td>...</td>\n",
       "      <td>0</td>\n",
       "      <td>0</td>\n",
       "      <td>0</td>\n",
       "      <td>0</td>\n",
       "      <td>0</td>\n",
       "      <td>1</td>\n",
       "      <td>0</td>\n",
       "      <td>0</td>\n",
       "      <td>0</td>\n",
       "      <td>0</td>\n",
       "    </tr>\n",
       "    <tr>\n",
       "      <th>4</th>\n",
       "      <td>1</td>\n",
       "      <td>0</td>\n",
       "      <td>7969</td>\n",
       "      <td>0</td>\n",
       "      <td>0</td>\n",
       "      <td>0</td>\n",
       "      <td>0</td>\n",
       "      <td>0</td>\n",
       "      <td>0</td>\n",
       "      <td>1</td>\n",
       "      <td>...</td>\n",
       "      <td>0</td>\n",
       "      <td>0</td>\n",
       "      <td>0</td>\n",
       "      <td>0</td>\n",
       "      <td>0</td>\n",
       "      <td>0</td>\n",
       "      <td>0</td>\n",
       "      <td>0</td>\n",
       "      <td>0</td>\n",
       "      <td>0</td>\n",
       "    </tr>\n",
       "  </tbody>\n",
       "</table>\n",
       "<p>5 rows × 75 columns</p>\n",
       "</div>"
      ],
      "text/plain": [
       "   Gender  Marital_Status  Purchase  Age_0-17  Age_18-25  Age_26-35  \\\n",
       "0       0               0      8370         1          0          0   \n",
       "1       0               0     15200         1          0          0   \n",
       "2       0               0      1422         1          0          0   \n",
       "3       0               0      1057         1          0          0   \n",
       "4       1               0      7969         0          0          0   \n",
       "\n",
       "   Age_36-45  Age_46-50  Age_51-55  Age_55+           ...             \\\n",
       "0          0          0          0        0           ...              \n",
       "1          0          0          0        0           ...              \n",
       "2          0          0          0        0           ...              \n",
       "3          0          0          0        0           ...              \n",
       "4          0          0          0        1           ...              \n",
       "\n",
       "   Product_Category_2_9.0  Product_Category_2_10.0  Product_Category_2_11.0  \\\n",
       "0                       0                        0                        0   \n",
       "1                       0                        0                        0   \n",
       "2                       0                        0                        0   \n",
       "3                       0                        0                        0   \n",
       "4                       0                        0                        0   \n",
       "\n",
       "   Product_Category_2_12.0  Product_Category_2_13.0  Product_Category_2_14.0  \\\n",
       "0                        0                        0                        0   \n",
       "1                        0                        0                        0   \n",
       "2                        0                        0                        0   \n",
       "3                        0                        0                        1   \n",
       "4                        0                        0                        0   \n",
       "\n",
       "   Product_Category_2_15.0  Product_Category_2_16.0  Product_Category_2_17.0  \\\n",
       "0                        0                        0                        0   \n",
       "1                        0                        0                        0   \n",
       "2                        0                        0                        0   \n",
       "3                        0                        0                        0   \n",
       "4                        0                        0                        0   \n",
       "\n",
       "   Product_Category_2_18.0  \n",
       "0                        0  \n",
       "1                        0  \n",
       "2                        0  \n",
       "3                        0  \n",
       "4                        0  \n",
       "\n",
       "[5 rows x 75 columns]"
      ]
     },
     "execution_count": 9,
     "metadata": {},
     "output_type": "execute_result"
    }
   ],
   "source": [
    "black_friday_data['Gender'].replace(('M', 'F'), (1, 0), inplace=True)\n",
    "\n",
    "\n",
    "dummy_fields = ['Age', 'Occupation', 'City_Category', 'Stay_In_Current_City_Years',\n",
    "                'Product_Category_1','Product_Category_2']\n",
    "for each in dummy_fields:\n",
    "    dummies = pd.get_dummies(black_friday_data[each], prefix=each, drop_first=False)\n",
    "    black_friday_data = pd.concat([black_friday_data, dummies], axis=1)\n",
    "\n",
    "fields_to_drop = ['User_ID','Product_ID','Age', 'Occupation', 'City_Category', 'Stay_In_Current_City_Years',\n",
    "                  'Product_Category_1','Product_Category_2','Product_Category_3']\n",
    "data = black_friday_data.drop(fields_to_drop, axis=1)\n",
    "data.head()"
   ]
  },
  {
   "cell_type": "markdown",
   "metadata": {},
   "source": [
    "\n",
    "# Scaling target variables\n",
    "\n",
    "To make training the network easier, we'll standardize each of the continuous variables. That is, we'll shift and scale the variables such that they have zero mean and a standard deviation of 1.\n",
    "\n",
    "The scaling factors are saved so we can go backwards when we use the network for predictions.\n"
   ]
  },
  {
   "cell_type": "code",
   "execution_count": 10,
   "metadata": {},
   "outputs": [],
   "source": [
    "# mean, std = data[\"Purchase\"].mean(), data[\"Purchase\"].std()\n",
    "# data.loc[:, \"Purchase\"] = (data[\"Purchase\"] - mean)/std\n",
    "# data.head()"
   ]
  },
  {
   "cell_type": "markdown",
   "metadata": {},
   "source": [
    "### Splitting the data into training, testing, and validation sets\n",
    "\n",
    "We'll save  approximately 40% data as validation and test  set after we've trained the network. We'll use this set to make predictions and compare them with the actual numbers.\n"
   ]
  },
  {
   "cell_type": "code",
   "execution_count": 11,
   "metadata": {},
   "outputs": [],
   "source": [
    "# Save data for approximately the last 21 days \n",
    "test_data = data[-21*24:]\n",
    "\n",
    "# Now remove the test data from the data set \n",
    "data = data[:-21*24]\n",
    "\n",
    "# Separate the data into features and targets\n",
    "target_fields = ['Purchase']\n",
    "features, targets = data.drop(target_fields, axis=1), data[target_fields]\n",
    "test_features, test_targets = test_data.drop(target_fields, axis=1), test_data[target_fields]\n",
    "\n",
    "\n",
    "train_features, train_targets = features[:-60*24], targets[:-60*24]\n",
    "val_features, val_targets = features[-60*24:], targets[-60*24:]"
   ]
  },
  {
   "cell_type": "code",
   "execution_count": 12,
   "metadata": {},
   "outputs": [
    {
     "name": "stderr",
     "output_type": "stream",
     "text": [
      "Using TensorFlow backend.\n"
     ]
    }
   ],
   "source": [
    "import tensorflow as tf\n",
    "\n",
    "from keras.models import Sequential\n",
    "from keras.layers.core import Dense, Activation, Flatten\n",
    "from keras.optimizers import SGD\n",
    "\n"
   ]
  },
  {
   "cell_type": "code",
   "execution_count": 23,
   "metadata": {},
   "outputs": [
    {
     "name": "stdout",
     "output_type": "stream",
     "text": [
      "_________________________________________________________________\n",
      "Layer (type)                 Output Shape              Param #   \n",
      "=================================================================\n",
      "dense_6 (Dense)              (None, 51)                3825      \n",
      "_________________________________________________________________\n",
      "activation_4 (Activation)    (None, 51)                0         \n",
      "_________________________________________________________________\n",
      "dense_7 (Dense)              (None, 1)                 52        \n",
      "=================================================================\n",
      "Total params: 3,877\n",
      "Trainable params: 3,877\n",
      "Non-trainable params: 0\n",
      "_________________________________________________________________\n"
     ]
    }
   ],
   "source": [
    "model = Sequential()\n",
    "model.add(Dense(51, input_dim=train_features.shape[1]))\n",
    "model.add(Activation(\"sigmoid\"))\n",
    "model.add(Dense(1))\n",
    "\n",
    "sgd = SGD(0.01)\n",
    "\n",
    "model.compile(loss='mse', optimizer=sgd, metrics = ['mse'])\n",
    "\n",
    "model.summary()\n"
   ]
  },
  {
   "cell_type": "code",
   "execution_count": 24,
   "metadata": {},
   "outputs": [
    {
     "name": "stdout",
     "output_type": "stream",
     "text": [
      "Epoch 1/40\n",
      "535633/535633 [==============================] - 23s 43us/step - loss: 23440826.5498 - mean_squared_error: 23440826.5498\n",
      "Epoch 2/40\n",
      "535633/535633 [==============================] - 24s 46us/step - loss: 24314874.3678 - mean_squared_error: 24314874.3678\n",
      "Epoch 3/40\n",
      "535633/535633 [==============================] - 23s 43us/step - loss: 19824559.4326 - mean_squared_error: 19824559.4326\n",
      "Epoch 4/40\n",
      "535633/535633 [==============================] - 22s 42us/step - loss: 17573408.6095 - mean_squared_error: 17573408.6095\n",
      "Epoch 5/40\n",
      "535633/535633 [==============================] - 22s 41us/step - loss: 15617533.0699 - mean_squared_error: 15617533.0699\n",
      "Epoch 6/40\n",
      "535633/535633 [==============================] - 22s 41us/step - loss: 15169371.9778 - mean_squared_error: 15169371.9778\n",
      "Epoch 7/40\n",
      "535633/535633 [==============================] - 22s 41us/step - loss: 15371928.9027 - mean_squared_error: 15371928.9027\n",
      "Epoch 8/40\n",
      "535633/535633 [==============================] - 23s 42us/step - loss: 14262532.8946 - mean_squared_error: 14262532.8946\n",
      "Epoch 9/40\n",
      "535633/535633 [==============================] - 22s 41us/step - loss: 13599477.0839 - mean_squared_error: 13599477.0839\n",
      "Epoch 10/40\n",
      "535633/535633 [==============================] - 22s 41us/step - loss: 14777729.0716 - mean_squared_error: 14777729.0716\n",
      "Epoch 11/40\n",
      "535633/535633 [==============================] - 23s 43us/step - loss: 14324739.2293 - mean_squared_error: 14324739.2293\n",
      "Epoch 12/40\n",
      "535633/535633 [==============================] - 23s 42us/step - loss: 13398929.5540 - mean_squared_error: 13398929.5540\n",
      "Epoch 13/40\n",
      "535633/535633 [==============================] - 22s 42us/step - loss: 12888786.9236 - mean_squared_error: 12888786.9236\n",
      "Epoch 14/40\n",
      "535633/535633 [==============================] - 22s 41us/step - loss: 12606704.7608 - mean_squared_error: 12606704.7608\n",
      "Epoch 15/40\n",
      "535633/535633 [==============================] - 22s 42us/step - loss: 12254555.5088 - mean_squared_error: 12254555.5088\n",
      "Epoch 16/40\n",
      "535633/535633 [==============================] - 23s 43us/step - loss: 12225215.0317 - mean_squared_error: 12225215.03171s - loss: 12246056.0344 - mean_squared_error: 12246056. - E\n",
      "Epoch 17/40\n",
      "535633/535633 [==============================] - 23s 43us/step - loss: 12728405.4764 - mean_squared_error: 12728405.4764\n",
      "Epoch 18/40\n",
      "535633/535633 [==============================] - 22s 42us/step - loss: 12161627.7010 - mean_squared_error: 12161627.7010\n",
      "Epoch 19/40\n",
      "535633/535633 [==============================] - 22s 42us/step - loss: 11874894.3421 - mean_squared_error: 11874894.3421\n",
      "Epoch 20/40\n",
      "535633/535633 [==============================] - 22s 42us/step - loss: 11873171.7075 - mean_squared_error: 11873171.7075\n",
      "Epoch 21/40\n",
      "535633/535633 [==============================] - 22s 42us/step - loss: 11754260.6202 - mean_squared_error: 11754260.6202\n",
      "Epoch 22/40\n",
      "535633/535633 [==============================] - 24s 45us/step - loss: 11851895.9376 - mean_squared_error: 11851895.9376\n",
      "Epoch 23/40\n",
      "535633/535633 [==============================] - 23s 44us/step - loss: 12695018.7472 - mean_squared_error: 12695018.7472\n",
      "Epoch 24/40\n",
      "535633/535633 [==============================] - 23s 43us/step - loss: 12366786.6598 - mean_squared_error: 12366786.6598\n",
      "Epoch 25/40\n",
      "535633/535633 [==============================] - 23s 42us/step - loss: 11863251.0659 - mean_squared_error: 11863251.0659\n",
      "Epoch 26/40\n",
      "535633/535633 [==============================] - 22s 42us/step - loss: 11999166.0630 - mean_squared_error: 11999166.0630\n",
      "Epoch 27/40\n",
      "535633/535633 [==============================] - 23s 43us/step - loss: 11953270.2510 - mean_squared_error: 11953270.2510\n",
      "Epoch 28/40\n",
      "535633/535633 [==============================] - 23s 43us/step - loss: 11745547.9305 - mean_squared_error: 11745547.9305\n",
      "Epoch 29/40\n",
      "535633/535633 [==============================] - 23s 42us/step - loss: 11535718.2557 - mean_squared_error: 11535718.2557\n",
      "Epoch 30/40\n",
      "535633/535633 [==============================] - 23s 42us/step - loss: 11443530.9130 - mean_squared_error: 11443530.9130\n",
      "Epoch 31/40\n",
      "535633/535633 [==============================] - 23s 42us/step - loss: 11516150.9352 - mean_squared_error: 11516150.9352\n",
      "Epoch 32/40\n",
      "535633/535633 [==============================] - 23s 42us/step - loss: 11674804.0145 - mean_squared_error: 11674804.0145\n",
      "Epoch 33/40\n",
      "535633/535633 [==============================] - 23s 42us/step - loss: 11561628.0013 - mean_squared_error: 11561628.0013\n",
      "Epoch 34/40\n",
      "535633/535633 [==============================] - 23s 43us/step - loss: 11383687.5864 - mean_squared_error: 11383687.5864\n",
      "Epoch 35/40\n",
      "535633/535633 [==============================] - 23s 43us/step - loss: 11479745.7706 - mean_squared_error: 11479745.7706\n",
      "Epoch 36/40\n",
      "535633/535633 [==============================] - 24s 45us/step - loss: 11380469.5149 - mean_squared_error: 11380469.5149\n",
      "Epoch 37/40\n",
      "535633/535633 [==============================] - 22s 42us/step - loss: 11322243.2415 - mean_squared_error: 11322243.2415\n",
      "Epoch 38/40\n",
      "535633/535633 [==============================] - 22s 42us/step - loss: 11411811.2190 - mean_squared_error: 11411811.2190\n",
      "Epoch 39/40\n",
      "535633/535633 [==============================] - 22s 41us/step - loss: 11363633.9953 - mean_squared_error: 11363633.9953\n",
      "Epoch 40/40\n",
      "535633/535633 [==============================] - 22s 42us/step - loss: 11314241.9417 - mean_squared_error: 11314241.9417\n"
     ]
    }
   ],
   "source": [
    "history = model.fit(train_features, train_targets, epochs=40, verbose=1)"
   ]
  },
  {
   "cell_type": "code",
   "execution_count": 25,
   "metadata": {},
   "outputs": [
    {
     "name": "stdout",
     "output_type": "stream",
     "text": [
      "504/504 [==============================] - 0s 141us/step\n",
      "\n",
      "Accuracy:  [12356287.30952381, 12356287.30952381]\n"
     ]
    }
   ],
   "source": [
    "score = model.evaluate(test_features, test_targets)\n",
    "print(\"\\nAccuracy: \", score)\n"
   ]
  },
  {
   "cell_type": "code",
   "execution_count": 28,
   "metadata": {},
   "outputs": [
    {
     "name": "stderr",
     "output_type": "stream",
     "text": [
      "/Users/owner/anaconda3/envs/black_env/lib/python3.6/site-packages/keras/engine/sequential.py:247: UserWarning: Network returning invalid probability values. The last layer might not normalize predictions into probabilities (like softmax or sigmoid would).\n",
      "  warnings.warn('Network returning invalid probability values. '\n"
     ]
    },
    {
     "data": {
      "text/plain": [
       "<matplotlib.axes._subplots.AxesSubplot at 0x124d5a048>"
      ]
     },
     "execution_count": 28,
     "metadata": {},
     "output_type": "execute_result"
    },
    {
     "data": {
      "image/png": "[encoded data removed]",
      "text/plain": [
       "<Figure size 432x288 with 2 Axes>"
      ]
     },
     "metadata": {
      "needs_background": "light"
     },
     "output_type": "display_data"
    }
   ],
   "source": [
    "Purchase = model.predict_proba(test_features)\n",
    "\n",
    "# plt.plot(Purchase_predict, \"ro\")\n",
    "# plt.plot(test_targets,\"bo\")\n",
    "Purchase_predict = pd.DataFrame({'Column1':Purchase[0:100,0], 'Column2':test_targets.values[0:100,0]})\n",
    "plt.figure()\n",
    "Purchase_predict.Column1.plot( style='b')\n",
    "Purchase_predict.Column2.plot(secondary_y=True, style='g')"
   ]
  },
  {
   "cell_type": "code",
   "execution_count": 29,
   "metadata": {},
   "outputs": [
    {
     "data": {
      "text/plain": [
       "[<matplotlib.lines.Line2D at 0x11b19d908>]"
      ]
     },
     "execution_count": 29,
     "metadata": {},
     "output_type": "execute_result"
    },
    {
     "data": {
      "image/png": "[encoded data removed]",
      "text/plain": [
       "<Figure size 432x288 with 1 Axes>"
      ]
     },
     "metadata": {
      "needs_background": "light"
     },
     "output_type": "display_data"
    }
   ],
   "source": [
    "plt.plot(history.history['mean_squared_error'])"
   ]
  },
  {
   "cell_type": "code",
   "execution_count": null,
   "metadata": {},
   "outputs": [],
   "source": [
    "# Save data for approximately the last 21 days \n",
    "test_data = data[-21*24:]\n",
    "\n",
    "# Now remove the test data from the data set \n",
    "data = data[:-21*24]\n",
    "\n",
    "# Separate the data into features and targets\n",
    "target_fields = ['Marital_Status']\n",
    "features, targets = data.drop(target_fields, axis=1), data[target_fields]\n",
    "test_features, test_targets = test_data.drop(target_fields, axis=1), test_data[target_fields]\n",
    "\n",
    "\n",
    "train_features, train_targets = features[:-60*24], targets[:-60*24]\n",
    "val_features, val_targets = features[-60*24:], targets[-60*24:]"
   ]
  },
  {
   "cell_type": "code",
   "execution_count": null,
   "metadata": {},
   "outputs": [],
   "source": [
    "model = Sequential()\n",
    "model.add(Dense(51, input_dim=train_features.shape[1]))\n",
    "model.add(Activation(\"sigmoid\"))\n",
    "model.add(Dense(1))\n",
    "\n",
    "sgd = SGD(0.01)\n",
    "\n",
    "model.compile(loss='mse', optimizer=sgd, metrics = ['mse'])\n",
    "\n",
    "model.summary()"
   ]
  },
  {
   "cell_type": "code",
   "execution_count": null,
   "metadata": {},
   "outputs": [],
   "source": []
  }
 ],
 "metadata": {
  "kernelspec": {
   "display_name": "Python 3",
   "language": "python",
   "name": "python3"
  },
  "language_info": {
   "codemirror_mode": {
    "name": "ipython",
    "version": 3
   },
   "file_extension": ".py",
   "mimetype": "text/x-python",
   "name": "python",
   "nbconvert_exporter": "python",
   "pygments_lexer": "ipython3",
   "version": "3.6.7"
  }
 },
 "nbformat": 4,
 "nbformat_minor": 2
}
